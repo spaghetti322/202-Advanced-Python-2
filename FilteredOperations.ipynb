{
 "cells": [
  {
   "cell_type": "code",
   "execution_count": 31,
   "id": "c121e91b",
   "metadata": {},
   "outputs": [],
   "source": [
    "test_list = [1] * 10000\n",
    "test_i = 504\n",
    "\n",
    "\n",
    "class Test:\n",
    "    \n",
    "    @staticmethod\n",
    "    def test_filter1(arr, i):\n",
    "        \"\"\"Фильтрация с предварительным перебором и `range(len)`\"\"\"\n",
    "        cumsum = 0\n",
    "        for j in [j for j in range(len(arr)) if j != i]:\n",
    "            cumsum += arr[j]\n",
    "        return cumsum\n",
    "\n",
    "    @staticmethod\n",
    "    def test_filter2(arr, i):\n",
    "        \"\"\"Фильтрация без предварительного перебора и `range(len)\"\"\"\n",
    "        cumsum = 0\n",
    "        for j in range(len(arr)):\n",
    "            if j != i: cumsum += arr[j]\n",
    "        return cumsum\n",
    "\n",
    "    @staticmethod\n",
    "    def test_filter3(arr, i):\n",
    "        \"\"\"Фильтрация без предварительного перебора с `enumerate`\"\"\"\n",
    "        cumsum = 0\n",
    "        for j, e in enumerate(arr):\n",
    "            if j != i: cumsum += e\n",
    "        return cumsum\n",
    "\n",
    "    @staticmethod\n",
    "    def test_filter4(arr, i):\n",
    "        \"\"\"Фильтрация по значению с неравенством. Применять, если все элементы гарантированно разные\"\"\"\n",
    "        cumsum = 0\n",
    "        e0 = arr[i]\n",
    "        for e in arr:\n",
    "            if e != e0: cumsum += e\n",
    "        return cumsum\n",
    "\n",
    "    @staticmethod\n",
    "    def test_filter5(arr, i):\n",
    "        \"\"\"Фильтрация по значению с равенством. Применять, если все элементы гарантированно разные\"\"\"\n",
    "        cumsum = 0\n",
    "        e0 = arr[i]\n",
    "        for e in arr:\n",
    "            if e == e0:\n",
    "                continue\n",
    "            cumsum += e\n",
    "        return cumsum\n",
    "\n",
    "    @staticmethod\n",
    "    def test_filter6(arr, i):\n",
    "        \"\"\"Фильтрация с использованием условий задачи\"\"\"\n",
    "        cumsum = sum(arr)\n",
    "        return cumsum - arr[i]  "
   ]
  },
  {
   "cell_type": "code",
   "execution_count": 32,
   "id": "2823e44c",
   "metadata": {},
   "outputs": [
    {
     "name": "stdout",
     "output_type": "stream",
     "text": [
      "Фильтрация с предварительным перебором и `range(len)`\n",
      "1.53 ms ± 56.8 µs per loop (mean ± std. dev. of 7 runs, 1000 loops each)\n",
      "Фильтрация без предварительного перебора и `range(len)\n",
      "1.22 ms ± 35.1 µs per loop (mean ± std. dev. of 7 runs, 1000 loops each)\n",
      "Фильтрация без предварительного перебора с `enumerate`\n",
      "1.2 ms ± 36.6 µs per loop (mean ± std. dev. of 7 runs, 1000 loops each)\n",
      "Фильтрация по значению с неравенством. Применять, если все элементы гарантированно разные\n",
      "312 µs ± 20.2 µs per loop (mean ± std. dev. of 7 runs, 1000 loops each)\n",
      "Фильтрация по значению с равенством. Применять, если все элементы гарантированно разные\n",
      "368 µs ± 28.1 µs per loop (mean ± std. dev. of 7 runs, 1000 loops each)\n",
      "Фильтрация с использованием условий задачи\n",
      "86.2 µs ± 142 ns per loop (mean ± std. dev. of 7 runs, 10000 loops each)\n"
     ]
    }
   ],
   "source": [
    "for i in range(1, 7):\n",
    "    f = getattr(Test, f\"test_filter{i}\")\n",
    "    print(f.__doc__)\n",
    "    %timeit f(test_list, test_i)"
   ]
  }
 ],
 "metadata": {
  "kernelspec": {
   "display_name": "Python 3 (ipykernel)",
   "language": "python",
   "name": "python3"
  },
  "language_info": {
   "codemirror_mode": {
    "name": "ipython",
    "version": 3
   },
   "file_extension": ".py",
   "mimetype": "text/x-python",
   "name": "python",
   "nbconvert_exporter": "python",
   "pygments_lexer": "ipython3",
   "version": "3.8.12"
  }
 },
 "nbformat": 4,
 "nbformat_minor": 5
}
